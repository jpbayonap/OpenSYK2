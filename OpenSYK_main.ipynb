{
 "cells": [
  {
   "cell_type": "code",
   "execution_count": 8,
   "id": "0a957fbd",
   "metadata": {},
   "outputs": [],
   "source": [
    "#Import libraries \n",
    "import qutip as qt\n",
    "import numpy as np\n",
    "from numpy import linalg\n",
    "import itertools\n",
    "from qutip.qip.operations import swap\n",
    "import pickle\n",
    "import json \n",
    "import os\n",
    "from multiprocessing import Pool\n",
    "\n"
   ]
  },
  {
   "cell_type": "code",
   "execution_count": 10,
   "id": "bf7a7d66",
   "metadata": {},
   "outputs": [],
   "source": [
    "%run OpenSYK_functions.ipynb"
   ]
  },
  {
   "cell_type": "code",
   "execution_count": 27,
   "id": "ee248488",
   "metadata": {},
   "outputs": [
    {
     "data": {
      "text/plain": [
       "2190"
      ]
     },
     "execution_count": 27,
     "metadata": {},
     "output_type": "execute_result"
    }
   ],
   "source": [
    "# Parameters \n",
    "\n",
    "P = {\"w\": [1e-1,1,1e1],\"gamma/w\":[1,1e1,1e2], \"w/g\": np.array([5e-2, 1e-1, 5e-1, 1, 5, 1e1, 5e1, 1e2, 5e2]),\\\n",
    "     \"N\":[10,4,2], \\\n",
    "     \"gamma/beta\" : np.array([1e-6, 1e-4, 1e-3,1e-2,1e-1, 1, 1e1,1e2,1e3]),\\\n",
    "     \"AverageNumber\":350}\n",
    "\n",
    "len_i= len(P[\"w\"])\n",
    "len_j= len(P[\"gamma/w\"])\n",
    "len_k= len(P[\"w/g\"])\n",
    "len_l= len(P[\"gamma/beta\"])\n",
    "#Evolution time\n",
    "end= 2000\n",
    "times = np.append(np.linspace(0,10,200),np.arange(10,end,1))\n",
    "times.size"
   ]
  },
  {
   "cell_type": "markdown",
   "id": "cfb09bcc",
   "metadata": {},
   "source": [
    "## Series time evolution"
   ]
  },
  {
   "cell_type": "code",
   "execution_count": 28,
   "id": "d135bbee",
   "metadata": {},
   "outputs": [],
   "source": [
    "#linear sampling\n",
    "# sampling \n",
    "# w, w/Gamma, N value\n",
    "i,j,m= 0,0,-1\n",
    "\n",
    "for k in range(len_k):\n",
    "\n",
    "  for l in range(len_l):\n",
    "    \n",
    "    Model = create_Model(i,j,k,l,m)\n",
    "    data= { \"counts_d\":[], \"purity\":[], \"entropy\":[], \"eigenvalues\":[], \"eigenvalues_L\":[],\\\n",
    "       \"entropy_infty\":[],\"purity_infty\":[] }\n",
    "    N = Model.N\n",
    "    entropy_max= np.log(2**(N//2+1))\n",
    "    purity_min = 1/2**(N//2+1)\n",
    "    for s in range (P[\"AverageNumber\"]):\n",
    "        \n",
    "      purity=[]\n",
    "      entropy=[]\n",
    "      #random variables   \n",
    "      H, eig, lamb, coupl_c, coupl_cm, quasi_norms, f =  Model.Hamiltonian1\n",
    "        \n",
    "      # time evolution for the system\n",
    "      result_d, rho,  eig_L = solve2(times, coupl_c, coupl_cm, f, N, H, quasi_norms)\n",
    "      counts_d= result_d.expect\n",
    "      rhot = rho.states\n",
    "     \n",
    "      for n in range(len(rhot)):\n",
    "          # purity\n",
    "          purity.append((rhot[n]**2).tr())\n",
    "          #entropy\n",
    "          entropy.append(qt.entropy_vn(rhot[n]))\n",
    "            \n",
    "      \n",
    "      purity = np.array(purity)\n",
    "      entropy = np.array(entropy)\n",
    "      \n",
    "    #scaled quantities\n",
    "      entropy = entropy/entropy_max\n",
    "      purity = purity/purity_min\n",
    "\n",
    "    \n",
    "      #save data\n",
    "      data[\"counts_d\"].append(counts_d)\n",
    "      data[\"eigenvalues\"].append(eig)\n",
    "      data[\"eigenvalues_L\"].append(eig_L)\n",
    "      data[\"purity\"].append(purity)\n",
    "      data[\"entropy\"].append(entropy)\n",
    "      \n",
    "    #averaged behavior\n",
    "    av_entropy= np.mean(data[\"entropy\"],axis=0)\n",
    "    av_eig=  np.mean(data[\"eigenvalues\"], axis=0)  \n",
    "    av_purity= np.mean(data[\"purity\"],axis=0)\n",
    "  #steady state value of physical quantities\n",
    "    S= S_infty(Model.beta,av_eig)\n",
    "    Pty=  P_infty(Model.beta,av_eig)\n",
    "    data[\"entropy_infty\"].append(S)\n",
    "    data[\"purity_infty\"].append(Pty)\n",
    "        \n",
    "    print('N=%s, w=%.3f, gamma=%.3f, g=%.3f, beta=%.3f'%(Model.N, Model.w, Model.gamma,\\\n",
    "              Model.g, Model.beta),\" process saved\")\n",
    "    name = 'DataBatchParallel/N_%s/w%.3f_w_g%.3f_'%(Model.N, Model.w, Model.w_g)+\\\n",
    "        'N%.1f_'%(N)+'gamma_w%.3f_gamma_beta%.6f'\\\n",
    "         %(Model.gamma_w, Model.gamma_beta)+'.pickle'\n",
    "    # loss and gain included \n",
    "    name_lg = 'DataBatchParallel/N_%s/loss_gain/w%.3f_g%.3f_'%(Model.N, Model.w, Model.g)+\\\n",
    "        'N%.1f_'%(N)+'gamma%.3f_beta%.6f'\\\n",
    "         %(Model.gamma, Model.beta)+'.pickle'\n",
    "    with open(name_lg,'wb') as handle:\n",
    "      pickle.dump(data, handle, protocol=pickle.HIGHEST_PROTOCOL) \n",
    "\n"
   ]
  },
  {
   "cell_type": "markdown",
   "id": "d23c55a4",
   "metadata": {},
   "source": [
    "## Parallel time evolution"
   ]
  },
  {
   "cell_type": "code",
   "execution_count": null,
   "id": "f9cb1980",
   "metadata": {},
   "outputs": [],
   "source": [
    "\n",
    "\n",
    "##################################################\n",
    "#Calculate the time evolution of the system\n",
    "\n",
    "#################################################\n",
    "\n",
    "if __name__ == '__main__': \n",
    "  process=[]\n",
    "  with Pool(8) as p:\n",
    "    i,j=0,0\n",
    "    for k in range(len_k):\n",
    "      for l in range(len_l):\n",
    "        process.append(p.apply_async(solve_batch,(i,j,k,l)) )\n",
    "    process = np.array(process)\n",
    "    process= process.reshape(len_k, len_l)\n",
    "   \n",
    "    for n in range(len_k):\n",
    "      for p in range(len_l):\n",
    "        np.random.seed(int.from_bytes(os.urandom(4), byteorder='little'))\n",
    "        process[n][p].get()\n",
    "    \n",
    "\n"
   ]
  },
  {
   "cell_type": "code",
   "execution_count": null,
   "id": "41660a24",
   "metadata": {},
   "outputs": [],
   "source": []
  }
 ],
 "metadata": {
  "kernelspec": {
   "display_name": "Python 3",
   "language": "python",
   "name": "python3"
  },
  "language_info": {
   "codemirror_mode": {
    "name": "ipython",
    "version": 3
   },
   "file_extension": ".py",
   "mimetype": "text/x-python",
   "name": "python",
   "nbconvert_exporter": "python",
   "pygments_lexer": "ipython3",
   "version": "3.9.10"
  }
 },
 "nbformat": 4,
 "nbformat_minor": 5
}
