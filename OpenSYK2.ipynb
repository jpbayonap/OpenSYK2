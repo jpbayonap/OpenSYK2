{
  "cells": [
    {
      "cell_type": "code",
      "execution_count": null,
      "metadata": {
        "colab": {
          "base_uri": "https://localhost:8080/"
        },
        "id": "beBnESWbMI0_",
        "outputId": "6f25b88d-bf60-4d7f-ac7b-14332b38df5e"
      },
      "outputs": [
        {
          "output_type": "stream",
          "name": "stdout",
          "text": [
            "Collecting qutip\n",
            "  Downloading qutip-4.6.3-cp37-cp37m-manylinux_2_5_x86_64.manylinux1_x86_64.manylinux_2_12_x86_64.manylinux2010_x86_64.whl (14.8 MB)\n",
            "\u001b[K     |████████████████████████████████| 14.8 MB 15.8 MB/s \n",
            "\u001b[?25hRequirement already satisfied: numpy>=1.16.6 in /usr/local/lib/python3.7/dist-packages (from qutip) (1.19.5)\n",
            "Requirement already satisfied: scipy>=1.0 in /usr/local/lib/python3.7/dist-packages (from qutip) (1.4.1)\n",
            "Requirement already satisfied: packaging in /usr/local/lib/python3.7/dist-packages (from qutip) (21.3)\n",
            "Requirement already satisfied: pyparsing!=3.0.5,>=2.0.2 in /usr/local/lib/python3.7/dist-packages (from packaging->qutip) (3.0.7)\n",
            "Installing collected packages: qutip\n",
            "Successfully installed qutip-4.6.3\n"
          ]
        }
      ],
      "source": [
        "!pip install qutip"
      ]
    },
    {
      "cell_type": "code",
      "execution_count": null,
      "metadata": {
        "id": "xaC5j1ryL66R"
      },
      "outputs": [],
      "source": [
        "#Import libraries \n",
        "import qutip as qt\n",
        "import numpy as np\n",
        "from numpy import linalg\n",
        "import scipy as spy\n",
        "import itertools\n",
        "import matplotlib.pyplot as plt\n",
        "from qutip.qip.operations import swap"
      ]
    },
    {
      "cell_type": "markdown",
      "metadata": {
        "id": "F1GkmdFSltqe"
      },
      "source": [
        "System Hamiltonian\n",
        "\n",
        "$H = H_S + H_B + H_{SB}$,\n",
        "\n",
        "where\n",
        "\n",
        "\\begin{align}\n",
        "  H_S &= \\omega d^{\\dagger}d + i \\sum_{1\\leq a <b}^{2N} K_{ab} \\Psi_a \\Psi_b\\\\  &+ \\sum_{n=1}^N  \\frac{g}{2}\\big[ \n",
        "    ( \\Psi_{2n-1}- i \\Psi_{2n}) d + d^{\\dagger}( \\Psi_{2n-1}+ i \\Psi_{2n})   \\big],\\\\\n",
        "    H_B&= \\sum_m \\omega_m b_m^{\\dagger}b_m.\\\\\n",
        "    H_{SB} &= \\sum_{n=1}^{N} \\sum_m g_m  ( \\Psi_{2n-1}- i \\Psi_{2n}) b_m +g_m^* b_m^{\\dagger}( \\Psi_{2n-1}+ i \\Psi_{2n})\n",
        "\\end{align}\n",
        " $\\Psi_a$ are Majorana fermions obeying the algebra\n",
        "$\\{ \\Psi_a,\\Psi_b\\}  = 2\\delta_{ab}$. Diagonalizing the skew matrix $K_{ab}$, we obtain\n",
        "\\begin{equation}\n",
        "     H_S^ \\;= \\omega d^{\\dagger}d +  \\sum_{n=1}^{N} \\lambda_n \\chi_{2n-1} \\chi_{2n}   + \\frac{g}{2}\\big[ \n",
        "    ( \\chi_{2n-1}-i \\chi_{2n}) d + d^{\\dagger}( \\chi_{2n-1}+i \\chi_{2n})   \\big].\n",
        "\\end{equation}\n",
        "Introducing $N$ complex Dirac fermions $c_i (i =1,..,N)$ by \n",
        "\\begin{eqnarray}\n",
        " &\\chi_{2j}= \\frac{c_j - c_j^{\\dagger}}{i}, \\\\& \\chi_{2j-1}=c_j + c_j^{\\dagger} \\\\\n",
        "     c_j^{\\dagger}c_j& = \\frac{1}{2} ( 1 +i \\chi_{2j-1} \\chi_{2j}),\n",
        "\\end{eqnarray}\n",
        "we obtain \n",
        "\n",
        "\\begin{equation}\n",
        "     H_S = \\omega d^{\\dagger}d +  \\sum_{n=1}^{N} \\lambda_n (2c_n^{\\dagger}c_n -1)   + g( c_n^{\\dagger} d + d^{\\dagger}c_n ),\n",
        "\\end{equation}\n",
        "\n",
        "\\begin{equation}\n",
        "    H_{SB} = \\sum_{n=1}^{N} \\sum_m g_m c_n^{\\dagger}b_m \n",
        "    + g_m^*b_m^{\\dagger}c_n. \n",
        "\\end{equation}"
      ]
    },
    {
      "cell_type": "markdown",
      "metadata": {
        "id": "arupaJx9uNO-"
      },
      "source": [
        "Rewriting $H_S$ in matrix form we observe that\n",
        "\n",
        "\\begin{equation}\n",
        "H_s = \\begin{pmatrix}\n",
        "d^{\\dagger} \\;c^{\\dagger}\n",
        "\\end{pmatrix}M\n",
        "\\begin{pmatrix}\n",
        "d\\\\\n",
        "c\n",
        "\\end{pmatrix}\n",
        "\\end{equation}\n",
        "where $c=\\sum_{n=1}^N c_n $ and \n",
        "\\begin{equation}\n",
        "    M= \\begin{pmatrix}\n",
        "    w& g & ...&g\\\\\n",
        "    g&\\lambda_1&\\dots &0\\\\\n",
        "    \\vdots &\\vdots &\\ddots & \\vdots\\\\\n",
        "    g& 0 &\\dots &\\lambda_n\n",
        "    \\end{pmatrix}.\n",
        "\\end{equation}\n",
        "\n",
        "The eigenvalues of M are given by the zeros of the following characteristic polynomial\n",
        "\\begin{equation}\n",
        "    (w-\\epsilon) \\Pi_{n=1}^N (\\lambda_n - \\epsilon) - g^2 \\sum_{P_\\alpha}\\Pi_{\\alpha } (\\lambda_\\alpha -\\epsilon) =0.\n",
        "\\end{equation}\n",
        "Using these eigenvalues we can rewrite the system Hamiltonian as\n",
        "\n",
        "$H_S = \\sum_i  \\epsilon_i \\xi_i^\\dagger \\xi_i$,\\begin{eqnarray}\n",
        "&\\xi_n  = \\frac{1}{|| \\xi_n||} \\begin{pmatrix}\n",
        "    d & c_1 &\\dots & c_N\n",
        "    \\end{pmatrix}\n",
        "    \\begin{pmatrix}\n",
        "    1\\\\\n",
        "    \\frac{g}{\\lambda_1 -\\epsilon_n }\\\\\n",
        "    \\vdots\\\\\n",
        "    \\frac{g}{\\lambda_N -\\epsilon_n }  \n",
        "    \\end{pmatrix}\\;, n = 0,\\dots,N \\; ,\n",
        "\\end{eqnarray}\n",
        "\n",
        "\\begin{equation}\n",
        "    || \\xi_n|| = \\left( 1 + g^2\\sum_i \\frac{1}{(\\lambda_i-\\epsilon_n)^2}\\right)^{-1/2},\n",
        "\\end{equation}    \n",
        "satisfying canonical commutation relations\n",
        "\\begin{eqnarray}\n",
        "    \\{ \\xi_i, \\xi_j^{\\dagger}\\} = \\delta_{ij} ,\\:& \\{ \\xi_i, \\xi_j\\} = 0.\n",
        "\\end{eqnarray}\n"
      ]
    },
    {
      "cell_type": "code",
      "execution_count": null,
      "metadata": {
        "id": "y8cofbDqMDVA"
      },
      "outputs": [],
      "source": [
        "def anticommutator(a, b):\n",
        "    return a*b + b*a\n",
        "#########################################################################################\n",
        "\n",
        "def fermion_operators(n):\n",
        "    return [qt.tensor(*[qt.destroy(2) if i == j\\\n",
        "                else (qt.sigmaz() if j < i\\\n",
        "                    else qt.identity(2))\\\n",
        "                        for j in range(n)])\\\n",
        "                            for i in range(n)]\n",
        "\n",
        "def test_fermion_operators(f):\n",
        "    for i in range(len(f)):\n",
        "        for j in range(len(f)):\n",
        "            d = f[i].shape[0]\n",
        "            #convert to array .full()\n",
        "            test1 = anticommutator(f[i], f[j]).full()\n",
        "            test2 = anticommutator(f[i], f[j].dag()).full()\n",
        "            if not \\\n",
        "                (np.isclose(test1, np.zeros((d,d))).all()\\\n",
        "                    and \\\n",
        "                ((np.isclose(test2, np.zeros((d,d))).all() and i != j)\\\n",
        "                        or (np.isclose(test2, np.eye(d)).all() and i == j))):\n",
        "                return False\n",
        "    return True\n",
        "\n",
        "#########################################################################################\n",
        "\n"
      ]
    },
    {
      "cell_type": "code",
      "execution_count": null,
      "metadata": {
        "id": "4A4p_5rSuJbD"
      },
      "outputs": [],
      "source": [
        "# non-diagonalized Hamiltonian\n",
        "\n",
        "def Hamiltonian(w, g, N, gamma, beta, c_fermi):\n",
        "  \n",
        "  n= N//2 # complex fermions number\n",
        "  wg = np.zeros(n+1)\n",
        "  wg[0] = w/2 # isolated fermion energy\n",
        "  wg[1:]= g   # interaction strength\n",
        "\n",
        "  #random interaction matrix \n",
        "  K = np.random.randn(N,N) \n",
        "  K = 0.5*(K - K.T)\n",
        "\n",
        "  # K_ab eigenenergies\n",
        "  lbd= np.linalg.eigvals(K)\n",
        "  lbd=[np.imag(lbd)[x] for x in range(0,len(lbd),2)]\n",
        "\n",
        "  #define M\n",
        "  M=np.zeros((n+1)**2)\n",
        "  M= M.reshape(n+1,n+1)\n",
        "  M[0]= wg\n",
        "  for x in range(n): \n",
        "    M[x+1][x+1] =lbd[x]/2\n",
        "  M = M + M.T\n",
        "  epsilon = np.linalg.eigvals(M)\n",
        "\n",
        "  #coupling constants\n",
        "  norms= np.sqrt([1+g**2*sum(1/(lbd[i]-epsilon[j])**2 for i in range(len(lbd))) for j in range(len(epsilon))])\n",
        "  random_c = np.array([1+g*sum(1/(lbd[i]-epsilon[j]) for i in range(len(lbd))) for j in range(len(epsilon))])\n",
        "  random_c = (random_c/norms)**2\n",
        "  random_cps = [N*gamma*(1+np.tanh(0.5*beta*epsilon[i]))*random_c[i] for i in range(len(random_c))]\n",
        "\n",
        "  # diagonalized Hamiltonian\n",
        "  H_d = sum([ epsilon[i]*(c_fermi[i].dag()*c_fermi[i]) for i in range(n)]) \n",
        "  return H_d, epsilon, lbd, random_cps, norms\n",
        "\n"
      ]
    },
    {
      "cell_type": "code",
      "execution_count": null,
      "metadata": {
        "id": "c0JO23OyZRBc"
      },
      "outputs": [],
      "source": [
        "\n",
        "def solve1(coupl_c,times,c_fermi,N,H, norms):\n",
        "\n",
        "  #jump operators\n",
        "  J_op = [np.sqrt(coupl_c[i])*c_fermi[i] for i in range(N//2+1)]\n",
        "  J_opdag=[J_op[j].dag() for j in range(len(J_op))]\n",
        "  J_ops = J_op.append(J_opdag)\n",
        "  #central fermion anihilation operator\n",
        "  d = [c_fermi[i]/norms[i] for i in range(N//2+1)]\n",
        "  D = sum(d)\n",
        "  D_op= D.dag()*D\n",
        "  #collapse operators\n",
        "  C_op= [J_op[i].dag()*J_op[i] for i in  range(N//2+1)]\n",
        "\n",
        "  #initial state\n",
        "  psi_0 =qt.tensor(*[qt.basis(2,1) for j in range(N//2+1)])\n",
        "  \n",
        "\n",
        "  #evolve and calculate expectation values for each quasi-fermion,d \n",
        "  out= qt.mesolve(H, psi_0, times, J_op, C_op)\n",
        "  out_d = qt.mesolve(H, psi_0, times, J_op, D_op)\n",
        "  rho= qt.mesolve(H, psi_0, times, J_op, [])\n",
        "  return out, out_d, rho\n"
      ]
    },
    {
      "cell_type": "code",
      "execution_count": null,
      "metadata": {
        "id": "vsWGxy2Xlb5G"
      },
      "outputs": [],
      "source": [
        "# Exponential series solution \n",
        "def solve2(H,c_fermi,coupl_c,N):\n",
        "  \n",
        "  # jump operators\n",
        "  J_op = [np.sqrt(coupl_c[i])*c_fermi[i] for i in range(N//2+1)]\n",
        "  J_opdag=[J_op[j].dag() for j in range(len(J_op))]\n",
        "\n",
        "  # Liouvillian\n",
        "  L = qt.liouvillian(H,J_op) \n",
        "\n",
        "  #initial state\n",
        "  rho0= qt.tensor(*[qt.basis(2,1) for j in range(N//2+1)])\n",
        "  rho0= qt.ket2dm(rho0)\n",
        "\n",
        "  #solution as an exponential series\n",
        "  rhoES = qt.ode2es(L,rho0)\n",
        "\n",
        "  # calculate expectation values \n",
        "  counts = [qt.esval(qt.expect(J.dag()*J ,rhoES),times)for J in J_op]\n",
        "\n",
        "  return counts \n"
      ]
    },
    {
      "cell_type": "code",
      "execution_count": null,
      "metadata": {
        "id": "jyhaHt9rxey3"
      },
      "outputs": [],
      "source": [
        "#System variables\n",
        "\n",
        "N= 14 # Majorana fermions number\n",
        "f= fermion_operators(N//2+1) # Complex fermions anihilation operators\n",
        "w= 1e-1\n",
        "g= w*(1/0.06)\n",
        "gamma= 1e-1\n",
        "beta = gamma*1e2\n",
        "times = np.linspace(0.0, 10, 120)\n",
        "x = np.arange(1,9)\n",
        "##################################################\n",
        "\n",
        "#Calculate the time evolution of the system\n",
        "\n",
        "purity=[]\n",
        "entropy=[]\n",
        "H, eps, lamb, coupl_c,  quasi_norms = Hamiltonian(w, g, N, gamma, beta, f)\n",
        "eps = np.sort(eps)\n",
        "\n",
        "result_q, result_d, rho = solve1(coupl_c, times, f, N, H, quasi_norms )\n",
        "counts_q= result_q.expect\n",
        "counts_d= result_d.expect\n",
        "rhot = rho.states\n",
        "purity_min = [1/2**(N//2+1)]*len(rhot)\n",
        "entropy_max= [np.log(2**(N//2+1))]*len(rhot)\n",
        "d_min = [min(counts_d[0])]*len(rhot)\n",
        "\n",
        "for i in range(len(rhot)):\n",
        "    # purity\n",
        "    purity.append((rhot[i]**2).tr())\n",
        "    #entropy\n",
        "    entropy.append(qt.entropy_vn(rhot[i]))\n",
        "##################################################\n",
        "#Plot populations of the quasiparticles\n",
        "\n"
      ]
    },
    {
      "cell_type": "code",
      "source": [
        "fig, (ax1,ax2,ax3,ax4,ax5) = plt.subplots(5,1, figsize=(7,24))\n",
        "\n",
        "\n",
        "for count in counts_q:\n",
        "  ax1.plot(times, np.real(count), '-')\n",
        "ax1.set_xlabel('Time', fontsize=18)\n",
        "ax1.set_ylabel(r'$\\xi_i^\\dagger\\xi_i$', fontsize=15)\n",
        "#ax1.set_ylim(-0.01,1)\n",
        "ax1.set_xlim(0.07,max(times))\n",
        "\n",
        "# Central electron population\n",
        "ax2.plot(times,np.real(counts_d[0]), '-')\n",
        "ax2.plot(times,np.real(d_min), '--', label=\"%.2f\"%(d_min[0]),linewidth=0.8)\n",
        "ax2.set_xlabel('Time', fontsize=18)\n",
        "ax2.set_ylabel(r'$d^\\dagger d$', fontsize=15)\n",
        "ax2.set_xlim(0,10)\n",
        "ax2.legend()\n",
        "\n",
        "#Purity of the system\n",
        "ax3.plot(times,purity,label=\"purity\")\n",
        "#ax3.plot(times,purity_min,label=\"minimum purity\")\n",
        "ax3.set_xlim(-0.02,max(times))\n",
        "ax3.set_xlabel('Time', fontsize=15)\n",
        "ax3.set_ylabel(\"Purity of $\\\\rho(t)$\", fontsize=15)\n",
        "ax3.legend()\n",
        "\n",
        "#Entropy of the system\n",
        "ax4.plot(times,entropy,label=\"von Neumann entropy\")\n",
        "ax4.set_xlim(-0.02,max(times))\n",
        "#ax4.plot(times,entropy_max,label=\"maximum entropy\")\n",
        "ax4.set_xlabel('Time', fontsize=18)\n",
        "ax4.set_ylabel(\"v.N. entropy of $\\\\rho(t)$\", fontsize=15)\n",
        "ax4.legend()\n",
        "\n",
        "#Eigenenergies of the system\n",
        "ax5.scatter(eps,x)\n",
        "ax5.set_ylabel(\"eigenenergies\")\n"
      ],
      "metadata": {
        "colab": {
          "base_uri": "https://localhost:8080/",
          "height": 1000
        },
        "id": "UCK3yAR7YzFo",
        "outputId": "9a5c7c7d-0026-4057-b8b0-c2b742ce7757"
      },
      "execution_count": null,
      "outputs": [
        {
          "output_type": "execute_result",
          "data": {
            "text/plain": [
              "Text(0, 0.5, 'eigenenergies')"
            ]
          },
          "metadata": {},
          "execution_count": 47
        },
        {
          "output_type": "display_data",
          "data": {
            "image/png": "[encoded data removed]",
            "text/plain": [
              "<Figure size 504x1728 with 5 Axes>"
            ]
          },
          "metadata": {
            "needs_background": "light"
          }
        }
      ]
    },
    {
      "cell_type": "code",
      "execution_count": null,
      "metadata": {
        "id": "FhZNR3KEQSqL"
      },
      "outputs": [],
      "source": [
        "#MWabala mesoscopic system \n",
        "#system variables\n",
        "#################################################\n",
        "\n",
        "w=3\n",
        "N=500\n",
        "e= 1\n",
        "g= 1\n",
        "theta= 0.5*np.arctan((2*g*np.sqrt(N))/(w-e))\n",
        "Omega_N= np.sqrt(4*N*g**2+ (w-e)**2)\n",
        "gamma= 1\n",
        "beta= 1\n",
        "c_fermions = fermion_operators(2)\n",
        "times = np.linspace(0.0, 1e-2, 100)\n",
        "c0= c_fermions[0]\n",
        "c1= c_fermions[1]\n",
        "\n",
        "#eigen energies\n",
        "\n",
        "ld0= 0.5*(w+e) + 0.5*Omega_N\n",
        "ld1= 0.5*(w+e) - 0.5*Omega_N\n",
        "\n",
        "# Colapse operators\n",
        "\n",
        "e0 =np.sqrt(N*gamma*(1+np.tanh(0.5*beta*ld0))*(np.sin(theta))**2)*c0\n",
        "e1 =np.sqrt(N*gamma*(1+np.tanh(0.5*beta*ld1))*(np.cos(theta))**2)*c1\n",
        "e0_s= np.sqrt(N*gamma*(1-np.tanh(0.5*beta*ld0))*(np.sin(theta))**2)*c0\n",
        "e1_s= np.sqrt(N*gamma*(1-np.tanh(0.5*beta*ld1))*(np.cos(theta))**2)*c1\n",
        "E0=e0.dag()*e0\n",
        "E1=e1.dag()*e1\n",
        "H= c0.dag()*c0*ld0+ c1.dag()*c1*ld1\n",
        "\n",
        "#################################################\n",
        "id=qt.tensor(qt.basis(2,0),qt.basis(2,0))\n",
        "id1= qt.fock(4,1)\n",
        "psi_0= np.cos(theta)*c0*id -np.sin(theta)*c1*id\n",
        "\n",
        "#qt.tensor(qt.basis(2,0),qt.basis(2,0)).full"
      ]
    },
    {
      "cell_type": "code",
      "execution_count": null,
      "metadata": {
        "id": "MwLaUjyuj2Vj"
      },
      "outputs": [],
      "source": [
        "def solveMwala(times, c_fermions, theta, gamma, beta, Omega_N, N):\n",
        "  \n",
        "  id= qt.tensor(qt.basis(2,1),qt.basis(2,1))\n",
        "  # quasifermionic operators\n",
        "\n",
        "  c0= c_fermions[0]\n",
        "  c1= c_fermions[1]\n",
        "  #eigen energies\n",
        "\n",
        "  ld0= 0.5*(w+e) + 0.5*Omega_N\n",
        "  ld1= 0.5*(w+e) - 0.5*Omega_N\n",
        "  # Colapse operators\n",
        "\n",
        "  e0 =np.sqrt(N*gamma*(1+np.tanh(0.5*beta*ld0))*(np.sin(theta))**2)*c0\n",
        "  e1 =np.sqrt(N*gamma*(1+np.tanh(0.5*beta*ld1))*(np.cos(theta))**2)*c1\n",
        "  e0_s= np.sqrt(N*gamma*(1-np.tanh(0.5*beta*ld0))*(np.sin(theta))**2)*c0\n",
        "  e1_s= np.sqrt(N*gamma*(1-np.tanh(0.5*beta*ld1))*(np.cos(theta))**2)*c1\n",
        "  E0=e0.dag()*e0\n",
        "  E1=e1.dag()*e1\n",
        "  E0_s=e0_s.dag()*e0_s\n",
        "  E1_s=e1_s.dag()*e1_s\n",
        "  #Hamiltonian\n",
        "\n",
        "  H= c0.dag()*c0*ld0+ c1.dag()*c1*ld1\n",
        "\n",
        "  #initial state\n",
        "\n",
        "  psi_0= np.cos(theta)*c0*id -np.sin(theta)*c1*id\n",
        "  d= np.cos(theta)*c0 -np.sin(theta)*c1\n",
        "  #evolve and calculate expectation values for each quasi-fermion\n",
        "  out= qt.mesolve(H, id, times, [e0, e0.dag(), e1, e1.dag(), e0_s, e0_s.dag(), e1_s, e1_s.dag()], [d.dag()*d])\n",
        "  out1 = qt.mesolve(H, id, times, [e0,e0.dag(), e1, e1.dag(), e0_s, e0_s.dag(), e1_s, e1_s.dag()], [])\n",
        "  return out.expect, out1\n"
      ]
    },
    {
      "cell_type": "code",
      "execution_count": null,
      "metadata": {
        "id": "xaqLAfDRPv2f"
      },
      "outputs": [],
      "source": [
        "count_mwalaba, result= solveMwala(times, c_fermions, theta, gamma, beta, Omega_N, N)\n",
        "count_mwalaba\n",
        "rhot =result.states\n",
        "purity=[]\n",
        "for i in range(len(rhot)):\n",
        "    # inefficient method\n",
        "    purity.append((rhot[i]**2).tr())\n",
        "\n"
      ]
    },
    {
      "cell_type": "code",
      "execution_count": null,
      "metadata": {
        "colab": {
          "base_uri": "https://localhost:8080/",
          "height": 437
        },
        "id": "fYmS9qn3QhXS",
        "outputId": "a681294e-135b-4800-cf71-a2114ac7a840"
      },
      "outputs": [
        {
          "data": {
            "text/plain": [
              "(0.0, 0.01)"
            ]
          },
          "execution_count": 21,
          "metadata": {},
          "output_type": "execute_result"
        },
        {
          "data": {
            "image/png": "[encoded data removed]",
            "text/plain": [
              "<Figure size 864x432 with 1 Axes>"
            ]
          },
          "metadata": {},
          "output_type": "display_data"
        }
      ],
      "source": [
        "fig, ax = plt.subplots(figsize=(12,6))\n",
        "for count in count_mwalaba:\n",
        "  ax.plot(times, np.real(count), '-')\n",
        "ax.set_xlabel('Time', fontsize=18)\n",
        "ax.set_ylabel(r'$d^\\dagger d$', fontsize=18)\n",
        "ax.set_ylim(0,1)\n",
        "ax.set_xlim(0,max(times))"
      ]
    }
  ],
  "metadata": {
    "colab": {
      "collapsed_sections": [],
      "name": "OpenSYK2",
      "provenance": []
    },
    "kernelspec": {
      "display_name": "Python 3",
      "name": "python3"
    },
    "language_info": {
      "name": "python"
    }
  },
  "nbformat": 4,
  "nbformat_minor": 0
}