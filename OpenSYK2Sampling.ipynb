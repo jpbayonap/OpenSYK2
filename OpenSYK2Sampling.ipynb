{
  "nbformat": 4,
  "nbformat_minor": 0,
  "metadata": {
    "colab": {
      "name": "OpenSYK2Sampling.ipynb",
      "provenance": [],
      "collapsed_sections": []
    },
    "kernelspec": {
      "name": "python3",
      "display_name": "Python 3"
    },
    "language_info": {
      "name": "python"
    }
  },
  "cells": [
    {
      "cell_type": "code",
      "execution_count": 2,
      "metadata": {
        "colab": {
          "base_uri": "https://localhost:8080/"
        },
        "id": "KZEv2jhKKpuc",
        "outputId": "b64f2d78-9d63-4a64-bd72-500cf421213d"
      },
      "outputs": [
        {
          "output_type": "stream",
          "name": "stdout",
          "text": [
            "Collecting qutip\n",
            "  Downloading qutip-4.6.2-cp37-cp37m-manylinux2010_x86_64.whl (14.6 MB)\n",
            "\u001b[K     |████████████████████████████████| 14.6 MB 2.1 MB/s \n",
            "\u001b[?25hRequirement already satisfied: numpy>=1.16.6 in /usr/local/lib/python3.7/dist-packages (from qutip) (1.19.5)\n",
            "Requirement already satisfied: packaging in /usr/local/lib/python3.7/dist-packages (from qutip) (21.3)\n",
            "Requirement already satisfied: scipy>=1.0 in /usr/local/lib/python3.7/dist-packages (from qutip) (1.4.1)\n",
            "Requirement already satisfied: pyparsing!=3.0.5,>=2.0.2 in /usr/local/lib/python3.7/dist-packages (from packaging->qutip) (3.0.7)\n",
            "Installing collected packages: qutip\n",
            "Successfully installed qutip-4.6.2\n"
          ]
        }
      ],
      "source": [
        "!pip install qutip"
      ]
    },
    {
      "cell_type": "code",
      "source": [
        "#Import libraries \n",
        "import qutip as qt\n",
        "import numpy as np\n",
        "from numpy import linalg\n",
        "import itertools\n",
        "import matplotlib.pyplot as plt\n",
        "from qutip.qip.operations import swap\n",
        "import pickle\n",
        "import json \n",
        "import os\n"
      ],
      "metadata": {
        "id": "5TATnbDuKyR0"
      },
      "execution_count": 80,
      "outputs": []
    },
    {
      "cell_type": "code",
      "source": [
        "#System variables\n",
        "\n",
        "N= 10 # Majorana fermions number\n",
        "#f= fermion_operators(N//2+1) # Complex fermions anihilation operators\n",
        "w= 1e-1\n",
        "g= 1e-1\n",
        "gamma= 1e-1\n",
        "beta = 1e-2\n",
        "times = np.linspace(0.0, 6.0, 100)\n",
        "\n",
        "\n",
        "class OpenSYK():\n",
        "  def __init__(self,w_g, N, gamma_beta, model):\n",
        "    # Model\n",
        "    self.Model= model\n",
        "   \n",
        "    # Central fermion strength \n",
        "    self.w= 1e-1\n",
        "    self.w_g= w_g\n",
        "\n",
        "    # Interaction strength\n",
        "    self.g = (1/self.w_g)* self.w\n",
        "\n",
        "    # Majorana fermions number\n",
        "    self.N= N\n",
        "\n",
        "    # Coupling function strength \n",
        "    self.gamma= 1e-1\n",
        "    self.gamma_beta = gamma_beta\n",
        "    # Bath temperature\n",
        "    self.beta = self.gamma*(1/self.gamma_beta)\n",
        "\n",
        "    #number of fermions = [complex fermions + central fermion(model 1), complex fermions(model 2)]\n",
        "    self.n1 = N//2+1\n",
        "    self.n2 = N//2\n",
        "\n",
        "    #model\n",
        "   # self.model= model\n",
        "  \n",
        "  #Define fermion operators using the Jordan-Wigner transform (n or N//2)\n",
        "  @property\n",
        "  def fermion_operators(self):\n",
        "    if self.Model==1:\n",
        "      return [qt.tensor(*[qt.destroy(2) if i == j\\\n",
        "                  else (qt.sigmaz() if j < i\\\n",
        "                      else qt.identity(2))\\\n",
        "                          for j in range(self.n1)])\\\n",
        "                              for i in range(self.n1)]\n",
        "    if self.Model==2:\n",
        "      return [qt.tensor(*[qt.destroy(2) if i == j\\\n",
        "                  else (qt.sigmaz() if j < i\\\n",
        "                      else qt.identity(2))\\\n",
        "                          for j in range(self.n2)])\\\n",
        "                              for i in range(self.n2)]\n",
        "\n",
        "  \n",
        "  #Hamiltonian of the system SYK+central fermion\n",
        "  @property\n",
        "  def Hamiltonian1(self):\n",
        "    c_fermi = self.fermion_operators\n",
        "    wg = np.zeros(self.n1)\n",
        "    wg[0] = self.w/2 # isolated fermion energy\n",
        "    wg[1:]= self.g   # interaction strength\n",
        "\n",
        "    #random interaction matrix \n",
        "    K = np.random.randn(self.N,self.N) \n",
        "    K = 0.5*(K - K.T)\n",
        "\n",
        "    # K_ab eigenenergies\n",
        "    lbd= np.linalg.eigvals(K)\n",
        "    lbd=[np.imag(lbd)[x] for x in range(0,len(lbd),2)]\n",
        "\n",
        "    #define M\n",
        "    M=np.zeros((self.n1)**2)\n",
        "    M= M.reshape(self.n1,self.n1)\n",
        "    M[0]= wg\n",
        "    for x in range(self.n2): \n",
        "      M[x+1][x+1] =lbd[x]/2\n",
        "    M = M + M.T\n",
        "    epsilon = np.linalg.eigvals(M)\n",
        "\n",
        "    #coupling constants\n",
        "    norms= np.sqrt([1+g**2*sum(1/(lbd[i]-epsilon[j])**2 for i in range(len(lbd))) for j in range(len(epsilon))])\n",
        "    random_c = np.array([1+g*sum(1/(lbd[i]-epsilon[j]) for i in range(len(lbd))) for j in range(len(epsilon))])\n",
        "    random_c = (random_c/norms)**2\n",
        "    random_cps = [N*gamma*(1+np.tanh(0.5*beta*epsilon[i]))*random_c[i] for i in range(len(random_c))]\n",
        "\n",
        "    # diagonalized Hamiltonian\n",
        "    H_d = sum([ epsilon[i]*(c_fermi[i].dag()*c_fermi[i]) for i in range(self.n2)]) \n",
        "    return  H_d, epsilon, lbd, random_cps\n",
        "\n",
        "\n"
      ],
      "metadata": {
        "id": "1FLJxMNVK40V"
      },
      "execution_count": 59,
      "outputs": []
    },
    {
      "cell_type": "code",
      "source": [
        "\n",
        "def solve1(coupl_c,times,c_fermi,N,H):\n",
        "\n",
        "  #jump operators\n",
        "  J_op = [np.sqrt(coupl_c[i])*c_fermi[i] for i in range(N//2+1)]\n",
        "  J_opdag=[J_op[j].dag() for j in range(len(J_op))]\n",
        "  J_ops = J_op.append(J_opdag)\n",
        "\n",
        "  #collapse operators\n",
        "  C_op= [J_op[i].dag()*J_op[i] for i in  range(N//2+1)]\n",
        "\n",
        "  #initial state\n",
        "  psi_0 =qt.tensor(*[qt.basis(2,1) for j in range(N//2+1)])\n",
        "  \n",
        "\n",
        "  #evolve and calculate expectation values for each quasi-fermion\n",
        "  out= qt.mesolve(H, psi_0, times, J_op, C_op)\n",
        "  rho= qt.mesolve(H, psi_0, times, J_op, [])\n",
        "  return out, rho"
      ],
      "metadata": {
        "id": "8ZIrSZxFLOH8"
      },
      "execution_count": 32,
      "outputs": []
    },
    {
      "cell_type": "code",
      "source": [
        "#Statistical sampling for the system dynamics \n",
        "# N=14 t= 1.21 minutes per iteration\n",
        "# N=12 t= 17s per iteration\n",
        "# N=10 t= 3s per iteration\n",
        "parameters= {\"w/g\":np.linspace(1, 100, 10), \"N\":[10, 12, 14], \"gamma/beta\" :np.linspace(.01,100,10), \"AverageNumber\":50}\n",
        "\n",
        "cases=parameters[\"w/g\"].size\n",
        "\n",
        "iterations= parameters[\"AverageNumber\"]\n",
        "\n",
        "Models = [OpenSYK(parameters[\"w/g\"][i], parameters[\"N\"][1],parameters[\"gamma/beta\"][i], 1 )for i in range(cases)]\n",
        "\n"
      ],
      "metadata": {
        "id": "YHCKwBt9LK1Z"
      },
      "execution_count": 78,
      "outputs": []
    },
    {
      "cell_type": "code",
      "source": [
        "times = np.linspace(0.0, 6, 100)\n",
        "\n",
        "##################################################\n",
        "#Calculate the time evolution of the system\n",
        "\n",
        "##################################################\n",
        "for i in range(cases):\n",
        " purity=[]\n",
        " entropy=[]\n",
        " data= {\"counts\":[], \"purity\":[], \"entropy\":[]}\n",
        " for j in range(iterations):\n",
        "    H, eps, lamb, coupl_c = Models[i].Hamiltonian1\n",
        "    result, rho = solve1(coupl_c, times,  Models[i].fermion_operators, Models[i].N, H )\n",
        "    counts= result.expect\n",
        "    rhot = rho.states\n",
        "    purity_min = [1/2**(N//2+1)]*len(rhot)\n",
        "    entropy_max= [np.log(2**(N//2+1))]*len(rhot)\n",
        "    for k in range(len(rhot)):\n",
        "      # purity\n",
        "      purity.append((rhot[k]**2).tr())\n",
        "      #entropy\n",
        "      entropy.append(qt.entropy_vn(rhot[k]))\n",
        "    data[\"counts\"].append(counts)\n",
        "    data[\"purity\"].append(purity)\n",
        "    data[\"entropy\"].append(entropy)   \n",
        " with open('w_g'+'%.3f_'%(Models[i].w_g)+'N%.1f_'%(parameters[\"N\"][1])+'gamma_beta%.2f'%(Models[i].gamma_beta)+'.pickle','wb') as handle:\n",
        "      pickle.dump(data, handle, protocol=pickle.HIGHEST_PROTOCOL)\n",
        " print(i+\"batches\")\n",
        "\n",
        "\n"
      ],
      "metadata": {
        "colab": {
          "base_uri": "https://localhost:8080/",
          "height": 265
        },
        "id": "wgIFDvlMLU3n",
        "outputId": "d487b630-c9a3-45f7-d371-4e3d239f4646"
      },
      "execution_count": 79,
      "outputs": [
        {
          "output_type": "error",
          "ename": "FileNotFoundError",
          "evalue": "ignored",
          "traceback": [
            "\u001b[0;31m---------------------------------------------------------------------------\u001b[0m",
            "\u001b[0;31mFileNotFoundError\u001b[0m                         Traceback (most recent call last)",
            "\u001b[0;32m<ipython-input-79-850c28da3318>\u001b[0m in \u001b[0;36m<module>\u001b[0;34m()\u001b[0m\n\u001b[1;32m     24\u001b[0m     \u001b[0mdata\u001b[0m\u001b[0;34m[\u001b[0m\u001b[0;34m\"purity\"\u001b[0m\u001b[0;34m]\u001b[0m\u001b[0;34m.\u001b[0m\u001b[0mappend\u001b[0m\u001b[0;34m(\u001b[0m\u001b[0mpurity\u001b[0m\u001b[0;34m)\u001b[0m\u001b[0;34m\u001b[0m\u001b[0;34m\u001b[0m\u001b[0m\n\u001b[1;32m     25\u001b[0m     \u001b[0mdata\u001b[0m\u001b[0;34m[\u001b[0m\u001b[0;34m\"entropy\"\u001b[0m\u001b[0;34m]\u001b[0m\u001b[0;34m.\u001b[0m\u001b[0mappend\u001b[0m\u001b[0;34m(\u001b[0m\u001b[0mentropy\u001b[0m\u001b[0;34m)\u001b[0m\u001b[0;34m\u001b[0m\u001b[0;34m\u001b[0m\u001b[0m\n\u001b[0;32m---> 26\u001b[0;31m  \u001b[0;32mwith\u001b[0m \u001b[0mopen\u001b[0m\u001b[0;34m(\u001b[0m\u001b[0;34m'w/g'\u001b[0m\u001b[0;34m+\u001b[0m\u001b[0;34m'%.3f_'\u001b[0m\u001b[0;34m%\u001b[0m\u001b[0;34m(\u001b[0m\u001b[0mModels\u001b[0m\u001b[0;34m[\u001b[0m\u001b[0mi\u001b[0m\u001b[0;34m]\u001b[0m\u001b[0;34m.\u001b[0m\u001b[0mw_g\u001b[0m\u001b[0;34m)\u001b[0m\u001b[0;34m+\u001b[0m\u001b[0;34m'N%.1f_'\u001b[0m\u001b[0;34m%\u001b[0m\u001b[0;34m(\u001b[0m\u001b[0mparameters\u001b[0m\u001b[0;34m[\u001b[0m\u001b[0;34m\"N\"\u001b[0m\u001b[0;34m]\u001b[0m\u001b[0;34m[\u001b[0m\u001b[0;36m1\u001b[0m\u001b[0;34m]\u001b[0m\u001b[0;34m)\u001b[0m\u001b[0;34m+\u001b[0m\u001b[0;34m'gamma/beta%.2f'\u001b[0m\u001b[0;34m%\u001b[0m\u001b[0;34m(\u001b[0m\u001b[0mModels\u001b[0m\u001b[0;34m[\u001b[0m\u001b[0mi\u001b[0m\u001b[0;34m]\u001b[0m\u001b[0;34m.\u001b[0m\u001b[0mgamma_beta\u001b[0m\u001b[0;34m)\u001b[0m\u001b[0;34m+\u001b[0m\u001b[0;34m'.pickle'\u001b[0m\u001b[0;34m,\u001b[0m\u001b[0;34m'wb'\u001b[0m\u001b[0;34m)\u001b[0m \u001b[0;32mas\u001b[0m \u001b[0mhandle\u001b[0m\u001b[0;34m:\u001b[0m\u001b[0;34m\u001b[0m\u001b[0;34m\u001b[0m\u001b[0m\n\u001b[0m\u001b[1;32m     27\u001b[0m       \u001b[0mpickle\u001b[0m\u001b[0;34m.\u001b[0m\u001b[0mdump\u001b[0m\u001b[0;34m(\u001b[0m\u001b[0mdata\u001b[0m\u001b[0;34m,\u001b[0m \u001b[0mhandle\u001b[0m\u001b[0;34m,\u001b[0m \u001b[0mprotocol\u001b[0m\u001b[0;34m=\u001b[0m\u001b[0mpickle\u001b[0m\u001b[0;34m.\u001b[0m\u001b[0mHIGHEST_PROTOCOL\u001b[0m\u001b[0;34m)\u001b[0m\u001b[0;34m\u001b[0m\u001b[0;34m\u001b[0m\u001b[0m\n\u001b[1;32m     28\u001b[0m  \u001b[0mprint\u001b[0m\u001b[0;34m(\u001b[0m\u001b[0mi\u001b[0m\u001b[0;34m+\u001b[0m\u001b[0;34m\"batches\"\u001b[0m\u001b[0;34m)\u001b[0m\u001b[0;34m\u001b[0m\u001b[0;34m\u001b[0m\u001b[0m\n",
            "\u001b[0;31mFileNotFoundError\u001b[0m: [Errno 2] No such file or directory: 'w/g1.000_N12.0_gamma/beta0.01.pickle'"
          ]
        }
      ]
    }
  ]
}